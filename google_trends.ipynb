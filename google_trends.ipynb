{
 "cells": [
  {
   "cell_type": "markdown",
   "metadata": {},
   "source": [
    "bibliotecas que utilizaremos:\n",
    "\n",
    "1) selenium: para fazer a automação de ações, como clicks, rolagens, ect...\n",
    "    \n",
    "2) pandas: precisaremos trabalhar com dataframes.\n",
    "\n",
    "3) seaborn: plotaegem e estilização dos gráficos.\n",
    "\n",
    "4) matplotlib: plotagem de gráficos.\n",
    "    \n",
    "5) time: algumas vezes,precisaremos dar um curto tempo de espera entre ações.\n",
    "\n",
    "6) os: biblioteca para acessarmos pastas e arquivos locais."
   ]
  },
  {
   "cell_type": "code",
   "execution_count": 41,
   "metadata": {},
   "outputs": [],
   "source": [
    "from selenium import webdriver\n",
    "\n",
    "from selenium.webdriver.support.ui import WebDriverWait\n",
    "from selenium.webdriver.support import expected_conditions as EC\n",
    "\n",
    "import pandas as pd \n",
    "import seaborn as sns\n",
    "import matplotlib.pyplot as plt\n",
    "import numpy as np\n",
    "\n",
    "import time\n",
    "import os\n",
    "\n",
    "sns.set()\n",
    "%matplotlib inline"
   ]
  },
  {
   "cell_type": "markdown",
   "metadata": {},
   "source": [
    "Como costumo usar o google chrome, utilizarei o chromedriver do selenium.\n",
    "Perceba que dentro dos parênteses estou passando o caminho do meu chromedriver, que atualmente está na mesma pasta do arquivo .ipynb que estou fazendo esse scraping.\n",
    "Aqui é importante deixar claro que quando você for fazar o download do webedriver, lembre-se de baixar a versão compatível com a versão do seu navegador.\n",
    "Estou utilizando a versão 74 do chromedriver pois meu chrome está na versão 74.\n",
    "\n",
    "Iniciamos criando uma instância do objeto webdriver e logo em seguida já passamos a url que queremos acessar.\n",
    "Com essa url iremos cair na página inicial do google trends BR, ou seja, por padrão as pesquisas já serão feitas a partir do Brasil, afinal estou acessando o site do Brasil.\n",
    "Após acessar a página requirida, daremos um 'sleep' para evitar que o nosso programa execute a próxima instrução sem antes carregar o conteúdo da página.\n",
    "Obs: claro que tudo depende da sua internet, mas como estou utilizando uma de 100MB a requisição e o completo carregamento da página não nescessitarão de mais de um segundo."
   ]
  },
  {
   "cell_type": "code",
   "execution_count": 2,
   "metadata": {},
   "outputs": [],
   "source": [
    "driver = webdriver.Chrome('./chromedriver')\n",
    "#driver.fullscreen_window() #maximize window\n",
    "driver.get('https://trends.google.com.br/trends/?geo=BR')\n",
    "time.sleep(0.5)"
   ]
  },
  {
   "cell_type": "markdown",
   "metadata": {},
   "source": [
    "Em seguida, temos a função que requisita ao usuário o nome que ele deseja pesquisar no google trends.\n",
    "Obs: perceba que forçamos a entrada para ser do tipo string(str), fazendo um cast."
   ]
  },
  {
   "cell_type": "code",
   "execution_count": 31,
   "metadata": {
    "scrolled": true
   },
   "outputs": [],
   "source": [
    "# função para requisitar o termo a ser pesquisado\n",
    "def pesquisa():\n",
    "    \n",
    "    IN=str(input(\"Digite o que deseja pesquisar... \\n\"))\n",
    "    entrada = '%20'.join(IN.split())\n",
    "    \n",
    "    return entrada"
   ]
  },
  {
   "cell_type": "markdown",
   "metadata": {},
   "source": [
    "Por algum motivo a página inicial não permite o chromedriver de achar o input de pesquisa inicial, então iremos pesquisar diretamente na url.\n",
    "Fazendo alguns testes percebi que o padrão de url de uma pesquisa no google trends BR é dado pelo seguinte termo :\n",
    "'https://trends.google.com.br/trends/explore?geo=BR&q=SUA%20PESQUISA%20VEM%20AQUI'"
   ]
  },
  {
   "cell_type": "code",
   "execution_count": null,
   "metadata": {},
   "outputs": [],
   "source": [
    "Logo , podemos pegar o a nossa entrada de usuário e substituir os espaços por '%20'.\n",
    "Se a string não tiver espaços, é só colocá-la do mesmo jeito.\n",
    "\n",
    "O código que fiz abaixo se encarrega de tratar os dois tipos de caso citados acima, tanto com espaço ou sem ele."
   ]
  },
  {
   "cell_type": "markdown",
   "metadata": {},
   "source": [
    "A função split transforma uma string em uma lista de termos presentes nessa string, se não passarmos nenhum parâmetro para ela - como no caso acima -, então ela toma o espaço como padrão de separação.\n",
    "\n",
    "A função join coloca alguma string - '%20' no nosso caso- entre os termos de uma lista."
   ]
  },
  {
   "cell_type": "code",
   "execution_count": 4,
   "metadata": {},
   "outputs": [],
   "source": [
    "# função que retorna o arqivo mais recente em uma página\n",
    "def arquivo_recente(path):\n",
    "    files = os.listdir(path) # lista o nome dos arquivos na pasta\n",
    "    paths = [os.path.join(path, name) for name in files] # retorna o caminho completo de cada arquivo\n",
    "\n",
    "    return max(paths, key=os.path.getctime) #retorna o caminho do arquivo mais recente na pasta"
   ]
  },
  {
   "cell_type": "markdown",
   "metadata": {},
   "source": [
    "A função acima recebe uma pasta e retorna o caminho do arquivo mais recente dentro desta pasta.\n",
    "Iremos usá-la para pegar os dois arquivos .csv baixados no nosso chromedriver.\n",
    "Estamos usando isso para evitar uma dependência de nomes de arquivos.\n",
    "Então, toda vez que eu baixar um csv, o próximo passo é salvar este arquivo em um dataframe."
   ]
  },
  {
   "cell_type": "code",
   "execution_count": null,
   "metadata": {},
   "outputs": [],
   "source": [
    "# pegar a pasta de Downloads de cada usuário\n",
    "download_path = '/'.join(os.getcwd().split('/')[:3]) + '/Downloads/'\n",
    "\n",
    "while True:\n",
    "    try:\n",
    "        # obter termo\n",
    "        termo = pesquisa()  \n",
    "        # fazer a pesquisa\n",
    "        driver.get('https://trends.google.com.br/trends/explore?geo=BR&q={}'.format(termo))\n",
    "        \n",
    "        #clicar no primeiro botão do tipo 'baixar csv'\n",
    "        first_button = driver.find_elements_by_xpath(\"\"\"//*[@class=\"widget-actions-item export\"]\"\"\")[0]\n",
    "        first_button.click()\n",
    "        \n",
    "        #esperar baixar o .csv\n",
    "        time.sleep(1)\n",
    "        \n",
    "        # obter o arquivo mais recente na pasta Downloads\n",
    "        csv = arquivo_recente(download_path)\n",
    "        \n",
    "        #instanciar o primeiro dataframe passando o caminho do csv mais recente\n",
    "        DF_TIMELINE = pd.read_csv(arquivo_recente(download_path), names=['datetime','pontuation']).iloc[2:].reset_index(drop=True)\n",
    "        \n",
    "        #rolar a página até o outro botão estar visível\n",
    "        driver.execute_script(\"window.scrollTo(0, {});\".format(500))\n",
    "        \n",
    "        #clicar no segundo botão de baixar o csv, logo após estar visível\n",
    "        second_button =driver.find_elements_by_xpath(\"\"\"//*[@class=\"widget-actions-item export\"]\"\"\")[1]\n",
    "        second_button.click()\n",
    "        \n",
    "        # obter o arquivo mais recente na pasta Downloads\n",
    "        csv = arquivo_recente(download_path)\n",
    "        \n",
    "        #instanciar o segundo dataframe passando o caminho do csv mais recente\n",
    "        DF_GEOMAP = pd.read_csv(arquivo_recente(download_path) , names=['city','pontuation']).iloc[2:].reset_index(drop=True)\n",
    "        \n",
    "        \n",
    "        break\n",
    "        \n",
    "    except Exception as e:\n",
    "        print(e)"
   ]
  },
  {
   "cell_type": "code",
   "execution_count": 117,
   "metadata": {},
   "outputs": [],
   "source": [
    "df = pd.read_csv(arquivo_recente(download_path) , names=['estado','pontuaçao']).iloc[2:].reset_index(drop=True)\n"
   ]
  },
  {
   "cell_type": "code",
   "execution_count": 119,
   "metadata": {},
   "outputs": [],
   "source": [
    "def plotar(df1):\n",
    "    df1.pontuaçao=df1.pontuaçao.astype(np.int32)\n",
    "    \n",
    "    plt.figure(figsize=(15,6))\n",
    "    g=sns.barplot(data=df1,x='estado', y='pontuaçao' , palette=\"mako\")\n",
    "    g.set_xticklabels(df1.estado , rotation=270, fontsize=14 )\n",
    "    g.set_yticklabels(range(0,101,10),fontsize=14 )\n",
    "    g.set_yticks(range(0,101,10))\n",
    "    g.set_title(\"PONTUAÇÃO POR ESTADO\", fontsize=14);\n",
    "    \n",
    "    "
   ]
  },
  {
   "cell_type": "code",
   "execution_count": 120,
   "metadata": {},
   "outputs": [
    {
     "data": {
      "image/png": "[encoded data removed]",
      "text/plain": [
       "<Figure size 1080x432 with 1 Axes>"
      ]
     },
     "metadata": {},
     "output_type": "display_data"
    }
   ],
   "source": [
    "plotar(df)"
   ]
  },
  {
   "cell_type": "markdown",
   "metadata": {},
   "source": [
    "Aqui estamos tentando acessar formatando a url com nosso termo de pesquisa - variável entrada no nosso caso..\n",
    "Se o a busca falhar, entraremos no bloco except e temos que tratar esse erro."
   ]
  }
 ],
 "metadata": {
  "kernelspec": {
   "display_name": "Python 3",
   "language": "python",
   "name": "python3"
  },
  "language_info": {
   "codemirror_mode": {
    "name": "ipython",
    "version": 3
   },
   "file_extension": ".py",
   "mimetype": "text/x-python",
   "name": "python",
   "nbconvert_exporter": "python",
   "pygments_lexer": "ipython3",
   "version": "3.6.5"
  }
 },
 "nbformat": 4,
 "nbformat_minor": 2
}
